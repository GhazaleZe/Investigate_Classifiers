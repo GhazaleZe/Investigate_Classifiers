{
 "cells": [
  {
   "cell_type": "code",
   "execution_count": 139,
   "metadata": {
    "collapsed": true,
    "ExecuteTime": {
     "end_time": "2023-10-27T19:11:56.710995Z",
     "start_time": "2023-10-27T19:11:56.699165Z"
    }
   },
   "outputs": [],
   "source": [
    "import pandas as pd"
   ]
  },
  {
   "cell_type": "code",
   "execution_count": 140,
   "outputs": [
    {
     "data": {
      "text/plain": "        instance  feature  value\n4468           1        6      1\n10448          1        9      1\n19800          1       15      1\n29120          1       22      1\n39212          1       29      1\n40830          1       33      1\n48744          1       34      1\n62480          1       37      1\n68300          1       42      1\n73116          1       50      1\n84164          1       54      1\n92268          1       58      1\n101140         1       67      1\n109328         1       76      1\n113736         1       78      1\n122052         1       81      1\n130020         1       84      1\n142264         1       90      1\n147912         1       93      1\n155480         1      103      1\n170044         1      111      1",
      "text/html": "<div>\n<style scoped>\n    .dataframe tbody tr th:only-of-type {\n        vertical-align: middle;\n    }\n\n    .dataframe tbody tr th {\n        vertical-align: top;\n    }\n\n    .dataframe thead th {\n        text-align: right;\n    }\n</style>\n<table border=\"1\" class=\"dataframe\">\n  <thead>\n    <tr style=\"text-align: right;\">\n      <th></th>\n      <th>instance</th>\n      <th>feature</th>\n      <th>value</th>\n    </tr>\n  </thead>\n  <tbody>\n    <tr>\n      <th>4468</th>\n      <td>1</td>\n      <td>6</td>\n      <td>1</td>\n    </tr>\n    <tr>\n      <th>10448</th>\n      <td>1</td>\n      <td>9</td>\n      <td>1</td>\n    </tr>\n    <tr>\n      <th>19800</th>\n      <td>1</td>\n      <td>15</td>\n      <td>1</td>\n    </tr>\n    <tr>\n      <th>29120</th>\n      <td>1</td>\n      <td>22</td>\n      <td>1</td>\n    </tr>\n    <tr>\n      <th>39212</th>\n      <td>1</td>\n      <td>29</td>\n      <td>1</td>\n    </tr>\n    <tr>\n      <th>40830</th>\n      <td>1</td>\n      <td>33</td>\n      <td>1</td>\n    </tr>\n    <tr>\n      <th>48744</th>\n      <td>1</td>\n      <td>34</td>\n      <td>1</td>\n    </tr>\n    <tr>\n      <th>62480</th>\n      <td>1</td>\n      <td>37</td>\n      <td>1</td>\n    </tr>\n    <tr>\n      <th>68300</th>\n      <td>1</td>\n      <td>42</td>\n      <td>1</td>\n    </tr>\n    <tr>\n      <th>73116</th>\n      <td>1</td>\n      <td>50</td>\n      <td>1</td>\n    </tr>\n    <tr>\n      <th>84164</th>\n      <td>1</td>\n      <td>54</td>\n      <td>1</td>\n    </tr>\n    <tr>\n      <th>92268</th>\n      <td>1</td>\n      <td>58</td>\n      <td>1</td>\n    </tr>\n    <tr>\n      <th>101140</th>\n      <td>1</td>\n      <td>67</td>\n      <td>1</td>\n    </tr>\n    <tr>\n      <th>109328</th>\n      <td>1</td>\n      <td>76</td>\n      <td>1</td>\n    </tr>\n    <tr>\n      <th>113736</th>\n      <td>1</td>\n      <td>78</td>\n      <td>1</td>\n    </tr>\n    <tr>\n      <th>122052</th>\n      <td>1</td>\n      <td>81</td>\n      <td>1</td>\n    </tr>\n    <tr>\n      <th>130020</th>\n      <td>1</td>\n      <td>84</td>\n      <td>1</td>\n    </tr>\n    <tr>\n      <th>142264</th>\n      <td>1</td>\n      <td>90</td>\n      <td>1</td>\n    </tr>\n    <tr>\n      <th>147912</th>\n      <td>1</td>\n      <td>93</td>\n      <td>1</td>\n    </tr>\n    <tr>\n      <th>155480</th>\n      <td>1</td>\n      <td>103</td>\n      <td>1</td>\n    </tr>\n    <tr>\n      <th>170044</th>\n      <td>1</td>\n      <td>111</td>\n      <td>1</td>\n    </tr>\n  </tbody>\n</table>\n</div>"
     },
     "execution_count": 140,
     "metadata": {},
     "output_type": "execute_result"
    }
   ],
   "source": [
    "\n",
    "custom_column_names = [\"instance\", \"feature\", \"value\"]\n",
    "df_train_x = pd.read_csv(\"train_X.csv\",names=custom_column_names)\n",
    "# merged_data_encoded = pd.get_dummies(df_train_x, columns=['feature'])\n",
    "df_train_x.loc[df_train_x['instance'] ==1]\n",
    "# merged_data_encoded[merged_data_encoded['instance'] ==5]"
   ],
   "metadata": {
    "collapsed": false,
    "ExecuteTime": {
     "end_time": "2023-10-27T19:11:56.753725Z",
     "start_time": "2023-10-27T19:11:56.704225Z"
    }
   }
  },
  {
   "cell_type": "code",
   "execution_count": 141,
   "outputs": [
    {
     "data": {
      "text/plain": "       feature    value\n0    cap-shape     bell\n1    cap-shape  conical\n2    cap-shape     flat\n3    cap-shape  knobbed\n4    cap-shape   sunken\n..         ...      ...\n107    habitat   leaves\n108    habitat  meadows\n109    habitat    paths\n110    habitat    urban\n111    habitat    waste\n\n[112 rows x 2 columns]",
      "text/html": "<div>\n<style scoped>\n    .dataframe tbody tr th:only-of-type {\n        vertical-align: middle;\n    }\n\n    .dataframe tbody tr th {\n        vertical-align: top;\n    }\n\n    .dataframe thead th {\n        text-align: right;\n    }\n</style>\n<table border=\"1\" class=\"dataframe\">\n  <thead>\n    <tr style=\"text-align: right;\">\n      <th></th>\n      <th>feature</th>\n      <th>value</th>\n    </tr>\n  </thead>\n  <tbody>\n    <tr>\n      <th>0</th>\n      <td>cap-shape</td>\n      <td>bell</td>\n    </tr>\n    <tr>\n      <th>1</th>\n      <td>cap-shape</td>\n      <td>conical</td>\n    </tr>\n    <tr>\n      <th>2</th>\n      <td>cap-shape</td>\n      <td>flat</td>\n    </tr>\n    <tr>\n      <th>3</th>\n      <td>cap-shape</td>\n      <td>knobbed</td>\n    </tr>\n    <tr>\n      <th>4</th>\n      <td>cap-shape</td>\n      <td>sunken</td>\n    </tr>\n    <tr>\n      <th>...</th>\n      <td>...</td>\n      <td>...</td>\n    </tr>\n    <tr>\n      <th>107</th>\n      <td>habitat</td>\n      <td>leaves</td>\n    </tr>\n    <tr>\n      <th>108</th>\n      <td>habitat</td>\n      <td>meadows</td>\n    </tr>\n    <tr>\n      <th>109</th>\n      <td>habitat</td>\n      <td>paths</td>\n    </tr>\n    <tr>\n      <th>110</th>\n      <td>habitat</td>\n      <td>urban</td>\n    </tr>\n    <tr>\n      <th>111</th>\n      <td>habitat</td>\n      <td>waste</td>\n    </tr>\n  </tbody>\n</table>\n<p>112 rows × 2 columns</p>\n</div>"
     },
     "execution_count": 141,
     "metadata": {},
     "output_type": "execute_result"
    }
   ],
   "source": [
    "custom_features_names = [\"feature\",\"value\"]\n",
    "df_features = pd.read_csv(\"feature_names.csv\",sep=\"=\",names=custom_features_names)\n",
    "df_features"
   ],
   "metadata": {
    "collapsed": false,
    "ExecuteTime": {
     "end_time": "2023-10-27T19:11:56.771610Z",
     "start_time": "2023-10-27T19:11:56.754010Z"
    }
   }
  },
  {
   "cell_type": "code",
   "execution_count": 141,
   "outputs": [],
   "source": [],
   "metadata": {
    "collapsed": false,
    "ExecuteTime": {
     "end_time": "2023-10-27T19:11:56.784119Z",
     "start_time": "2023-10-27T19:11:56.767380Z"
    }
   }
  },
  {
   "cell_type": "code",
   "execution_count": 142,
   "outputs": [
    {
     "data": {
      "text/plain": "      instance  feature  value\n0           10        1      1\n1           39        1      1\n2           44        1      1\n3           52        1      1\n4           59        1      1\n...        ...      ...    ...\n3995       186      111      1\n3996       200      111      1\n3997        16      112      1\n3998        81      112      1\n3999       149      112      1\n\n[4000 rows x 3 columns]",
      "text/html": "<div>\n<style scoped>\n    .dataframe tbody tr th:only-of-type {\n        vertical-align: middle;\n    }\n\n    .dataframe tbody tr th {\n        vertical-align: top;\n    }\n\n    .dataframe thead th {\n        text-align: right;\n    }\n</style>\n<table border=\"1\" class=\"dataframe\">\n  <thead>\n    <tr style=\"text-align: right;\">\n      <th></th>\n      <th>instance</th>\n      <th>feature</th>\n      <th>value</th>\n    </tr>\n  </thead>\n  <tbody>\n    <tr>\n      <th>0</th>\n      <td>10</td>\n      <td>1</td>\n      <td>1</td>\n    </tr>\n    <tr>\n      <th>1</th>\n      <td>39</td>\n      <td>1</td>\n      <td>1</td>\n    </tr>\n    <tr>\n      <th>2</th>\n      <td>44</td>\n      <td>1</td>\n      <td>1</td>\n    </tr>\n    <tr>\n      <th>3</th>\n      <td>52</td>\n      <td>1</td>\n      <td>1</td>\n    </tr>\n    <tr>\n      <th>4</th>\n      <td>59</td>\n      <td>1</td>\n      <td>1</td>\n    </tr>\n    <tr>\n      <th>...</th>\n      <td>...</td>\n      <td>...</td>\n      <td>...</td>\n    </tr>\n    <tr>\n      <th>3995</th>\n      <td>186</td>\n      <td>111</td>\n      <td>1</td>\n    </tr>\n    <tr>\n      <th>3996</th>\n      <td>200</td>\n      <td>111</td>\n      <td>1</td>\n    </tr>\n    <tr>\n      <th>3997</th>\n      <td>16</td>\n      <td>112</td>\n      <td>1</td>\n    </tr>\n    <tr>\n      <th>3998</th>\n      <td>81</td>\n      <td>112</td>\n      <td>1</td>\n    </tr>\n    <tr>\n      <th>3999</th>\n      <td>149</td>\n      <td>112</td>\n      <td>1</td>\n    </tr>\n  </tbody>\n</table>\n<p>4000 rows × 3 columns</p>\n</div>"
     },
     "execution_count": 142,
     "metadata": {},
     "output_type": "execute_result"
    }
   ],
   "source": [
    "df_test_x = pd.read_csv(\"test_X.csv\",names=custom_column_names)\n",
    "df_test_x"
   ],
   "metadata": {
    "collapsed": false,
    "ExecuteTime": {
     "end_time": "2023-10-27T19:11:56.855844Z",
     "start_time": "2023-10-27T19:11:56.775135Z"
    }
   }
  },
  {
   "cell_type": "markdown",
   "source": [],
   "metadata": {
    "collapsed": false
   }
  },
  {
   "cell_type": "code",
   "execution_count": 143,
   "outputs": [
    {
     "data": {
      "text/plain": "     poisonous\n0           -1\n1            1\n2           -1\n3           -1\n4            1\n..         ...\n195          1\n196         -1\n197         -1\n198          1\n199          1\n\n[200 rows x 1 columns]",
      "text/html": "<div>\n<style scoped>\n    .dataframe tbody tr th:only-of-type {\n        vertical-align: middle;\n    }\n\n    .dataframe tbody tr th {\n        vertical-align: top;\n    }\n\n    .dataframe thead th {\n        text-align: right;\n    }\n</style>\n<table border=\"1\" class=\"dataframe\">\n  <thead>\n    <tr style=\"text-align: right;\">\n      <th></th>\n      <th>poisonous</th>\n    </tr>\n  </thead>\n  <tbody>\n    <tr>\n      <th>0</th>\n      <td>-1</td>\n    </tr>\n    <tr>\n      <th>1</th>\n      <td>1</td>\n    </tr>\n    <tr>\n      <th>2</th>\n      <td>-1</td>\n    </tr>\n    <tr>\n      <th>3</th>\n      <td>-1</td>\n    </tr>\n    <tr>\n      <th>4</th>\n      <td>1</td>\n    </tr>\n    <tr>\n      <th>...</th>\n      <td>...</td>\n    </tr>\n    <tr>\n      <th>195</th>\n      <td>1</td>\n    </tr>\n    <tr>\n      <th>196</th>\n      <td>-1</td>\n    </tr>\n    <tr>\n      <th>197</th>\n      <td>-1</td>\n    </tr>\n    <tr>\n      <th>198</th>\n      <td>1</td>\n    </tr>\n    <tr>\n      <th>199</th>\n      <td>1</td>\n    </tr>\n  </tbody>\n</table>\n<p>200 rows × 1 columns</p>\n</div>"
     },
     "execution_count": 143,
     "metadata": {},
     "output_type": "execute_result"
    }
   ],
   "source": [
    "custom_Y_names = [\"poisonous\"]\n",
    "df_test_Y = pd.read_csv(\"test_Y.csv\",names=custom_Y_names)\n",
    "df_test_Y"
   ],
   "metadata": {
    "collapsed": false,
    "ExecuteTime": {
     "end_time": "2023-10-27T19:11:56.899321Z",
     "start_time": "2023-10-27T19:11:56.795541Z"
    }
   }
  },
  {
   "cell_type": "code",
   "execution_count": 144,
   "outputs": [
    {
     "data": {
      "text/plain": "      instance  feature_1  feature_2  feature_3  feature_4  feature_5  \\\n0            1        0.0        0.0        0.0        0.0        0.0   \n1            2        0.0        0.0        0.0        0.0        0.0   \n2            3        1.0        0.0        0.0        0.0        0.0   \n3            4        0.0        0.0        0.0        0.0        0.0   \n4            5        0.0        0.0        0.0        0.0        0.0   \n...        ...        ...        ...        ...        ...        ...   \n8119      8120        0.0        0.0        0.0        1.0        0.0   \n8120      8121        0.0        0.0        0.0        0.0        0.0   \n8121      8122        0.0        0.0        1.0        0.0        0.0   \n8122      8123        0.0        0.0        0.0        1.0        0.0   \n8123      8124        0.0        0.0        0.0        0.0        0.0   \n\n      feature_6  feature_7  feature_8  feature_9  ...  feature_103  \\\n0           1.0        0.0        0.0        1.0  ...          1.0   \n1           1.0        0.0        0.0        1.0  ...          0.0   \n2           0.0        0.0        0.0        1.0  ...          0.0   \n3           1.0        0.0        0.0        0.0  ...          1.0   \n4           1.0        0.0        0.0        1.0  ...          0.0   \n...         ...        ...        ...        ...  ...          ...   \n8119        0.0        0.0        0.0        1.0  ...          0.0   \n8120        1.0        0.0        0.0        1.0  ...          0.0   \n8121        0.0        0.0        0.0        1.0  ...          0.0   \n8122        0.0        0.0        0.0        0.0  ...          0.0   \n8123        1.0        0.0        0.0        1.0  ...          0.0   \n\n      feature_104  feature_105  feature_106  feature_107  feature_108  \\\n0             0.0          0.0          0.0          0.0          0.0   \n1             0.0          0.0          0.0          1.0          0.0   \n2             0.0          0.0          0.0          0.0          0.0   \n3             0.0          0.0          0.0          0.0          0.0   \n4             0.0          0.0          0.0          1.0          0.0   \n...           ...          ...          ...          ...          ...   \n8119          0.0          0.0          0.0          0.0          1.0   \n8120          1.0          0.0          0.0          0.0          1.0   \n8121          0.0          0.0          0.0          0.0          1.0   \n8122          1.0          0.0          0.0          0.0          1.0   \n8123          0.0          0.0          0.0          0.0          1.0   \n\n      feature_109  feature_110  feature_111  feature_112  \n0             0.0          0.0          1.0          0.0  \n1             0.0          0.0          0.0          0.0  \n2             1.0          0.0          0.0          0.0  \n3             0.0          0.0          1.0          0.0  \n4             0.0          0.0          0.0          0.0  \n...           ...          ...          ...          ...  \n8119          0.0          0.0          0.0          0.0  \n8120          0.0          0.0          0.0          0.0  \n8121          0.0          0.0          0.0          0.0  \n8122          0.0          0.0          0.0          0.0  \n8123          0.0          0.0          0.0          0.0  \n\n[8124 rows x 113 columns]",
      "text/html": "<div>\n<style scoped>\n    .dataframe tbody tr th:only-of-type {\n        vertical-align: middle;\n    }\n\n    .dataframe tbody tr th {\n        vertical-align: top;\n    }\n\n    .dataframe thead th {\n        text-align: right;\n    }\n</style>\n<table border=\"1\" class=\"dataframe\">\n  <thead>\n    <tr style=\"text-align: right;\">\n      <th></th>\n      <th>instance</th>\n      <th>feature_1</th>\n      <th>feature_2</th>\n      <th>feature_3</th>\n      <th>feature_4</th>\n      <th>feature_5</th>\n      <th>feature_6</th>\n      <th>feature_7</th>\n      <th>feature_8</th>\n      <th>feature_9</th>\n      <th>...</th>\n      <th>feature_103</th>\n      <th>feature_104</th>\n      <th>feature_105</th>\n      <th>feature_106</th>\n      <th>feature_107</th>\n      <th>feature_108</th>\n      <th>feature_109</th>\n      <th>feature_110</th>\n      <th>feature_111</th>\n      <th>feature_112</th>\n    </tr>\n  </thead>\n  <tbody>\n    <tr>\n      <th>0</th>\n      <td>1</td>\n      <td>0.0</td>\n      <td>0.0</td>\n      <td>0.0</td>\n      <td>0.0</td>\n      <td>0.0</td>\n      <td>1.0</td>\n      <td>0.0</td>\n      <td>0.0</td>\n      <td>1.0</td>\n      <td>...</td>\n      <td>1.0</td>\n      <td>0.0</td>\n      <td>0.0</td>\n      <td>0.0</td>\n      <td>0.0</td>\n      <td>0.0</td>\n      <td>0.0</td>\n      <td>0.0</td>\n      <td>1.0</td>\n      <td>0.0</td>\n    </tr>\n    <tr>\n      <th>1</th>\n      <td>2</td>\n      <td>0.0</td>\n      <td>0.0</td>\n      <td>0.0</td>\n      <td>0.0</td>\n      <td>0.0</td>\n      <td>1.0</td>\n      <td>0.0</td>\n      <td>0.0</td>\n      <td>1.0</td>\n      <td>...</td>\n      <td>0.0</td>\n      <td>0.0</td>\n      <td>0.0</td>\n      <td>0.0</td>\n      <td>1.0</td>\n      <td>0.0</td>\n      <td>0.0</td>\n      <td>0.0</td>\n      <td>0.0</td>\n      <td>0.0</td>\n    </tr>\n    <tr>\n      <th>2</th>\n      <td>3</td>\n      <td>1.0</td>\n      <td>0.0</td>\n      <td>0.0</td>\n      <td>0.0</td>\n      <td>0.0</td>\n      <td>0.0</td>\n      <td>0.0</td>\n      <td>0.0</td>\n      <td>1.0</td>\n      <td>...</td>\n      <td>0.0</td>\n      <td>0.0</td>\n      <td>0.0</td>\n      <td>0.0</td>\n      <td>0.0</td>\n      <td>0.0</td>\n      <td>1.0</td>\n      <td>0.0</td>\n      <td>0.0</td>\n      <td>0.0</td>\n    </tr>\n    <tr>\n      <th>3</th>\n      <td>4</td>\n      <td>0.0</td>\n      <td>0.0</td>\n      <td>0.0</td>\n      <td>0.0</td>\n      <td>0.0</td>\n      <td>1.0</td>\n      <td>0.0</td>\n      <td>0.0</td>\n      <td>0.0</td>\n      <td>...</td>\n      <td>1.0</td>\n      <td>0.0</td>\n      <td>0.0</td>\n      <td>0.0</td>\n      <td>0.0</td>\n      <td>0.0</td>\n      <td>0.0</td>\n      <td>0.0</td>\n      <td>1.0</td>\n      <td>0.0</td>\n    </tr>\n    <tr>\n      <th>4</th>\n      <td>5</td>\n      <td>0.0</td>\n      <td>0.0</td>\n      <td>0.0</td>\n      <td>0.0</td>\n      <td>0.0</td>\n      <td>1.0</td>\n      <td>0.0</td>\n      <td>0.0</td>\n      <td>1.0</td>\n      <td>...</td>\n      <td>0.0</td>\n      <td>0.0</td>\n      <td>0.0</td>\n      <td>0.0</td>\n      <td>1.0</td>\n      <td>0.0</td>\n      <td>0.0</td>\n      <td>0.0</td>\n      <td>0.0</td>\n      <td>0.0</td>\n    </tr>\n    <tr>\n      <th>...</th>\n      <td>...</td>\n      <td>...</td>\n      <td>...</td>\n      <td>...</td>\n      <td>...</td>\n      <td>...</td>\n      <td>...</td>\n      <td>...</td>\n      <td>...</td>\n      <td>...</td>\n      <td>...</td>\n      <td>...</td>\n      <td>...</td>\n      <td>...</td>\n      <td>...</td>\n      <td>...</td>\n      <td>...</td>\n      <td>...</td>\n      <td>...</td>\n      <td>...</td>\n      <td>...</td>\n    </tr>\n    <tr>\n      <th>8119</th>\n      <td>8120</td>\n      <td>0.0</td>\n      <td>0.0</td>\n      <td>0.0</td>\n      <td>1.0</td>\n      <td>0.0</td>\n      <td>0.0</td>\n      <td>0.0</td>\n      <td>0.0</td>\n      <td>1.0</td>\n      <td>...</td>\n      <td>0.0</td>\n      <td>0.0</td>\n      <td>0.0</td>\n      <td>0.0</td>\n      <td>0.0</td>\n      <td>1.0</td>\n      <td>0.0</td>\n      <td>0.0</td>\n      <td>0.0</td>\n      <td>0.0</td>\n    </tr>\n    <tr>\n      <th>8120</th>\n      <td>8121</td>\n      <td>0.0</td>\n      <td>0.0</td>\n      <td>0.0</td>\n      <td>0.0</td>\n      <td>0.0</td>\n      <td>1.0</td>\n      <td>0.0</td>\n      <td>0.0</td>\n      <td>1.0</td>\n      <td>...</td>\n      <td>0.0</td>\n      <td>1.0</td>\n      <td>0.0</td>\n      <td>0.0</td>\n      <td>0.0</td>\n      <td>1.0</td>\n      <td>0.0</td>\n      <td>0.0</td>\n      <td>0.0</td>\n      <td>0.0</td>\n    </tr>\n    <tr>\n      <th>8121</th>\n      <td>8122</td>\n      <td>0.0</td>\n      <td>0.0</td>\n      <td>1.0</td>\n      <td>0.0</td>\n      <td>0.0</td>\n      <td>0.0</td>\n      <td>0.0</td>\n      <td>0.0</td>\n      <td>1.0</td>\n      <td>...</td>\n      <td>0.0</td>\n      <td>0.0</td>\n      <td>0.0</td>\n      <td>0.0</td>\n      <td>0.0</td>\n      <td>1.0</td>\n      <td>0.0</td>\n      <td>0.0</td>\n      <td>0.0</td>\n      <td>0.0</td>\n    </tr>\n    <tr>\n      <th>8122</th>\n      <td>8123</td>\n      <td>0.0</td>\n      <td>0.0</td>\n      <td>0.0</td>\n      <td>1.0</td>\n      <td>0.0</td>\n      <td>0.0</td>\n      <td>0.0</td>\n      <td>0.0</td>\n      <td>0.0</td>\n      <td>...</td>\n      <td>0.0</td>\n      <td>1.0</td>\n      <td>0.0</td>\n      <td>0.0</td>\n      <td>0.0</td>\n      <td>1.0</td>\n      <td>0.0</td>\n      <td>0.0</td>\n      <td>0.0</td>\n      <td>0.0</td>\n    </tr>\n    <tr>\n      <th>8123</th>\n      <td>8124</td>\n      <td>0.0</td>\n      <td>0.0</td>\n      <td>0.0</td>\n      <td>0.0</td>\n      <td>0.0</td>\n      <td>1.0</td>\n      <td>0.0</td>\n      <td>0.0</td>\n      <td>1.0</td>\n      <td>...</td>\n      <td>0.0</td>\n      <td>0.0</td>\n      <td>0.0</td>\n      <td>0.0</td>\n      <td>0.0</td>\n      <td>1.0</td>\n      <td>0.0</td>\n      <td>0.0</td>\n      <td>0.0</td>\n      <td>0.0</td>\n    </tr>\n  </tbody>\n</table>\n<p>8124 rows × 113 columns</p>\n</div>"
     },
     "execution_count": 144,
     "metadata": {},
     "output_type": "execute_result"
    }
   ],
   "source": [
    "df_pivot = df_train_x.pivot(index=\"instance\", columns=\"feature\", values=\"value\").fillna(0)\n",
    "\n",
    "# Reset the index to make \"instance\" a regular column\n",
    "df_pivot.reset_index(inplace=True)\n",
    "\n",
    "# Rename the columns for clarity (0 and 1 instead of 0.0 and 1.0)\n",
    "df_pivot.columns = [f\"feature_{col}\" if col != \"instance\" else col for col in df_pivot.columns]\n",
    "\n",
    "# Optional: Convert \"instance\" column to an integer (if it's not already)\n",
    "df_pivot[\"instance\"] = df_pivot[\"instance\"]\n",
    "df_pivot"
   ],
   "metadata": {
    "collapsed": false,
    "ExecuteTime": {
     "end_time": "2023-10-27T19:11:56.969485Z",
     "start_time": "2023-10-27T19:11:56.814321Z"
    }
   }
  },
  {
   "cell_type": "code",
   "execution_count": 145,
   "outputs": [
    {
     "data": {
      "text/plain": "      poisonous\n0            -1\n1             1\n2             1\n3            -1\n4             1\n...         ...\n8119          1\n8120          1\n8121          1\n8122         -1\n8123          1\n\n[8124 rows x 1 columns]",
      "text/html": "<div>\n<style scoped>\n    .dataframe tbody tr th:only-of-type {\n        vertical-align: middle;\n    }\n\n    .dataframe tbody tr th {\n        vertical-align: top;\n    }\n\n    .dataframe thead th {\n        text-align: right;\n    }\n</style>\n<table border=\"1\" class=\"dataframe\">\n  <thead>\n    <tr style=\"text-align: right;\">\n      <th></th>\n      <th>poisonous</th>\n    </tr>\n  </thead>\n  <tbody>\n    <tr>\n      <th>0</th>\n      <td>-1</td>\n    </tr>\n    <tr>\n      <th>1</th>\n      <td>1</td>\n    </tr>\n    <tr>\n      <th>2</th>\n      <td>1</td>\n    </tr>\n    <tr>\n      <th>3</th>\n      <td>-1</td>\n    </tr>\n    <tr>\n      <th>4</th>\n      <td>1</td>\n    </tr>\n    <tr>\n      <th>...</th>\n      <td>...</td>\n    </tr>\n    <tr>\n      <th>8119</th>\n      <td>1</td>\n    </tr>\n    <tr>\n      <th>8120</th>\n      <td>1</td>\n    </tr>\n    <tr>\n      <th>8121</th>\n      <td>1</td>\n    </tr>\n    <tr>\n      <th>8122</th>\n      <td>-1</td>\n    </tr>\n    <tr>\n      <th>8123</th>\n      <td>1</td>\n    </tr>\n  </tbody>\n</table>\n<p>8124 rows × 1 columns</p>\n</div>"
     },
     "execution_count": 145,
     "metadata": {},
     "output_type": "execute_result"
    }
   ],
   "source": [
    "\n",
    "df_train_Y = pd.read_csv(\"train_Y.csv\",names=custom_Y_names)\n",
    "df_train_Y"
   ],
   "metadata": {
    "collapsed": false,
    "ExecuteTime": {
     "end_time": "2023-10-27T19:11:56.986884Z",
     "start_time": "2023-10-27T19:11:56.928203Z"
    }
   }
  },
  {
   "cell_type": "code",
   "execution_count": 146,
   "outputs": [
    {
     "data": {
      "text/plain": "     instance  feature_1  feature_3  feature_4  feature_5  feature_6  \\\n0           1        0.0        1.0        0.0        0.0        0.0   \n1           2        0.0        0.0        0.0        0.0        1.0   \n2           3        0.0        0.0        0.0        0.0        1.0   \n3           4        0.0        0.0        0.0        0.0        1.0   \n4           5        0.0        1.0        0.0        0.0        0.0   \n..        ...        ...        ...        ...        ...        ...   \n195       196        0.0        0.0        0.0        0.0        1.0   \n196       197        0.0        0.0        0.0        0.0        1.0   \n197       198        0.0        1.0        0.0        0.0        0.0   \n198       199        0.0        1.0        0.0        0.0        0.0   \n199       200        0.0        0.0        0.0        0.0        1.0   \n\n     feature_7  feature_9  feature_10  feature_11  ...  feature_103  \\\n0          0.0        0.0         1.0         0.0  ...          0.0   \n1          0.0        0.0         1.0         0.0  ...          0.0   \n2          1.0        0.0         0.0         0.0  ...          0.0   \n3          0.0        1.0         0.0         0.0  ...          0.0   \n4          0.0        0.0         1.0         0.0  ...          0.0   \n..         ...        ...         ...         ...  ...          ...   \n195        0.0        0.0         1.0         0.0  ...          0.0   \n196        1.0        0.0         0.0         0.0  ...          0.0   \n197        0.0        0.0         1.0         0.0  ...          0.0   \n198        1.0        0.0         0.0         0.0  ...          0.0   \n199        1.0        0.0         0.0         0.0  ...          0.0   \n\n     feature_104  feature_105  feature_106  feature_107  feature_108  \\\n0            1.0          0.0          0.0          0.0          0.0   \n1            0.0          1.0          0.0          1.0          0.0   \n2            0.0          1.0          0.0          1.0          0.0   \n3            1.0          0.0          1.0          0.0          0.0   \n4            1.0          0.0          1.0          0.0          0.0   \n..           ...          ...          ...          ...          ...   \n195          0.0          1.0          0.0          0.0          0.0   \n196          1.0          0.0          0.0          0.0          0.0   \n197          1.0          0.0          0.0          0.0          0.0   \n198          0.0          1.0          1.0          0.0          0.0   \n199          1.0          0.0          0.0          0.0          0.0   \n\n     feature_109  feature_110  feature_111  feature_112  \n0            0.0          1.0          0.0          0.0  \n1            0.0          0.0          0.0          0.0  \n2            0.0          0.0          0.0          0.0  \n3            0.0          0.0          0.0          0.0  \n4            0.0          0.0          0.0          0.0  \n..           ...          ...          ...          ...  \n195          0.0          0.0          0.0          0.0  \n196          0.0          1.0          0.0          0.0  \n197          0.0          1.0          0.0          0.0  \n198          0.0          0.0          0.0          0.0  \n199          0.0          0.0          1.0          0.0  \n\n[200 rows x 104 columns]",
      "text/html": "<div>\n<style scoped>\n    .dataframe tbody tr th:only-of-type {\n        vertical-align: middle;\n    }\n\n    .dataframe tbody tr th {\n        vertical-align: top;\n    }\n\n    .dataframe thead th {\n        text-align: right;\n    }\n</style>\n<table border=\"1\" class=\"dataframe\">\n  <thead>\n    <tr style=\"text-align: right;\">\n      <th></th>\n      <th>instance</th>\n      <th>feature_1</th>\n      <th>feature_3</th>\n      <th>feature_4</th>\n      <th>feature_5</th>\n      <th>feature_6</th>\n      <th>feature_7</th>\n      <th>feature_9</th>\n      <th>feature_10</th>\n      <th>feature_11</th>\n      <th>...</th>\n      <th>feature_103</th>\n      <th>feature_104</th>\n      <th>feature_105</th>\n      <th>feature_106</th>\n      <th>feature_107</th>\n      <th>feature_108</th>\n      <th>feature_109</th>\n      <th>feature_110</th>\n      <th>feature_111</th>\n      <th>feature_112</th>\n    </tr>\n  </thead>\n  <tbody>\n    <tr>\n      <th>0</th>\n      <td>1</td>\n      <td>0.0</td>\n      <td>1.0</td>\n      <td>0.0</td>\n      <td>0.0</td>\n      <td>0.0</td>\n      <td>0.0</td>\n      <td>0.0</td>\n      <td>1.0</td>\n      <td>0.0</td>\n      <td>...</td>\n      <td>0.0</td>\n      <td>1.0</td>\n      <td>0.0</td>\n      <td>0.0</td>\n      <td>0.0</td>\n      <td>0.0</td>\n      <td>0.0</td>\n      <td>1.0</td>\n      <td>0.0</td>\n      <td>0.0</td>\n    </tr>\n    <tr>\n      <th>1</th>\n      <td>2</td>\n      <td>0.0</td>\n      <td>0.0</td>\n      <td>0.0</td>\n      <td>0.0</td>\n      <td>1.0</td>\n      <td>0.0</td>\n      <td>0.0</td>\n      <td>1.0</td>\n      <td>0.0</td>\n      <td>...</td>\n      <td>0.0</td>\n      <td>0.0</td>\n      <td>1.0</td>\n      <td>0.0</td>\n      <td>1.0</td>\n      <td>0.0</td>\n      <td>0.0</td>\n      <td>0.0</td>\n      <td>0.0</td>\n      <td>0.0</td>\n    </tr>\n    <tr>\n      <th>2</th>\n      <td>3</td>\n      <td>0.0</td>\n      <td>0.0</td>\n      <td>0.0</td>\n      <td>0.0</td>\n      <td>1.0</td>\n      <td>1.0</td>\n      <td>0.0</td>\n      <td>0.0</td>\n      <td>0.0</td>\n      <td>...</td>\n      <td>0.0</td>\n      <td>0.0</td>\n      <td>1.0</td>\n      <td>0.0</td>\n      <td>1.0</td>\n      <td>0.0</td>\n      <td>0.0</td>\n      <td>0.0</td>\n      <td>0.0</td>\n      <td>0.0</td>\n    </tr>\n    <tr>\n      <th>3</th>\n      <td>4</td>\n      <td>0.0</td>\n      <td>0.0</td>\n      <td>0.0</td>\n      <td>0.0</td>\n      <td>1.0</td>\n      <td>0.0</td>\n      <td>1.0</td>\n      <td>0.0</td>\n      <td>0.0</td>\n      <td>...</td>\n      <td>0.0</td>\n      <td>1.0</td>\n      <td>0.0</td>\n      <td>1.0</td>\n      <td>0.0</td>\n      <td>0.0</td>\n      <td>0.0</td>\n      <td>0.0</td>\n      <td>0.0</td>\n      <td>0.0</td>\n    </tr>\n    <tr>\n      <th>4</th>\n      <td>5</td>\n      <td>0.0</td>\n      <td>1.0</td>\n      <td>0.0</td>\n      <td>0.0</td>\n      <td>0.0</td>\n      <td>0.0</td>\n      <td>0.0</td>\n      <td>1.0</td>\n      <td>0.0</td>\n      <td>...</td>\n      <td>0.0</td>\n      <td>1.0</td>\n      <td>0.0</td>\n      <td>1.0</td>\n      <td>0.0</td>\n      <td>0.0</td>\n      <td>0.0</td>\n      <td>0.0</td>\n      <td>0.0</td>\n      <td>0.0</td>\n    </tr>\n    <tr>\n      <th>...</th>\n      <td>...</td>\n      <td>...</td>\n      <td>...</td>\n      <td>...</td>\n      <td>...</td>\n      <td>...</td>\n      <td>...</td>\n      <td>...</td>\n      <td>...</td>\n      <td>...</td>\n      <td>...</td>\n      <td>...</td>\n      <td>...</td>\n      <td>...</td>\n      <td>...</td>\n      <td>...</td>\n      <td>...</td>\n      <td>...</td>\n      <td>...</td>\n      <td>...</td>\n      <td>...</td>\n    </tr>\n    <tr>\n      <th>195</th>\n      <td>196</td>\n      <td>0.0</td>\n      <td>0.0</td>\n      <td>0.0</td>\n      <td>0.0</td>\n      <td>1.0</td>\n      <td>0.0</td>\n      <td>0.0</td>\n      <td>1.0</td>\n      <td>0.0</td>\n      <td>...</td>\n      <td>0.0</td>\n      <td>0.0</td>\n      <td>1.0</td>\n      <td>0.0</td>\n      <td>0.0</td>\n      <td>0.0</td>\n      <td>0.0</td>\n      <td>0.0</td>\n      <td>0.0</td>\n      <td>0.0</td>\n    </tr>\n    <tr>\n      <th>196</th>\n      <td>197</td>\n      <td>0.0</td>\n      <td>0.0</td>\n      <td>0.0</td>\n      <td>0.0</td>\n      <td>1.0</td>\n      <td>1.0</td>\n      <td>0.0</td>\n      <td>0.0</td>\n      <td>0.0</td>\n      <td>...</td>\n      <td>0.0</td>\n      <td>1.0</td>\n      <td>0.0</td>\n      <td>0.0</td>\n      <td>0.0</td>\n      <td>0.0</td>\n      <td>0.0</td>\n      <td>1.0</td>\n      <td>0.0</td>\n      <td>0.0</td>\n    </tr>\n    <tr>\n      <th>197</th>\n      <td>198</td>\n      <td>0.0</td>\n      <td>1.0</td>\n      <td>0.0</td>\n      <td>0.0</td>\n      <td>0.0</td>\n      <td>0.0</td>\n      <td>0.0</td>\n      <td>1.0</td>\n      <td>0.0</td>\n      <td>...</td>\n      <td>0.0</td>\n      <td>1.0</td>\n      <td>0.0</td>\n      <td>0.0</td>\n      <td>0.0</td>\n      <td>0.0</td>\n      <td>0.0</td>\n      <td>1.0</td>\n      <td>0.0</td>\n      <td>0.0</td>\n    </tr>\n    <tr>\n      <th>198</th>\n      <td>199</td>\n      <td>0.0</td>\n      <td>1.0</td>\n      <td>0.0</td>\n      <td>0.0</td>\n      <td>0.0</td>\n      <td>1.0</td>\n      <td>0.0</td>\n      <td>0.0</td>\n      <td>0.0</td>\n      <td>...</td>\n      <td>0.0</td>\n      <td>0.0</td>\n      <td>1.0</td>\n      <td>1.0</td>\n      <td>0.0</td>\n      <td>0.0</td>\n      <td>0.0</td>\n      <td>0.0</td>\n      <td>0.0</td>\n      <td>0.0</td>\n    </tr>\n    <tr>\n      <th>199</th>\n      <td>200</td>\n      <td>0.0</td>\n      <td>0.0</td>\n      <td>0.0</td>\n      <td>0.0</td>\n      <td>1.0</td>\n      <td>1.0</td>\n      <td>0.0</td>\n      <td>0.0</td>\n      <td>0.0</td>\n      <td>...</td>\n      <td>0.0</td>\n      <td>1.0</td>\n      <td>0.0</td>\n      <td>0.0</td>\n      <td>0.0</td>\n      <td>0.0</td>\n      <td>0.0</td>\n      <td>0.0</td>\n      <td>1.0</td>\n      <td>0.0</td>\n    </tr>\n  </tbody>\n</table>\n<p>200 rows × 104 columns</p>\n</div>"
     },
     "execution_count": 146,
     "metadata": {},
     "output_type": "execute_result"
    }
   ],
   "source": [
    "df_test_x = pd.read_csv(\"test_X.csv\",names=custom_column_names)\n",
    "df_pivot_test = df_test_x.pivot(index=\"instance\", columns=\"feature\", values=\"value\").fillna(0)\n",
    "\n",
    "# Reset the index to make \"instance\" a regular column\n",
    "df_pivot_test.reset_index(inplace=True)\n",
    "\n",
    "# Rename the columns for clarity (0 and 1 instead of 0.0 and 1.0)\n",
    "df_pivot_test.columns = [f\"feature_{col}\" if col != \"instance\" else col for col in df_pivot_test.columns]\n",
    "\n",
    "# Optional: Convert \"instance\" column to an integer (if it's not already)\n",
    "df_pivot_test[\"instance\"] = df_pivot_test[\"instance\"]\n",
    "df_pivot_test"
   ],
   "metadata": {
    "collapsed": false,
    "ExecuteTime": {
     "end_time": "2023-10-27T19:11:57.049763Z",
     "start_time": "2023-10-27T19:11:56.944136Z"
    }
   }
  },
  {
   "cell_type": "code",
   "execution_count": 146,
   "outputs": [],
   "source": [],
   "metadata": {
    "collapsed": false,
    "ExecuteTime": {
     "end_time": "2023-10-27T19:11:57.050291Z",
     "start_time": "2023-10-27T19:11:56.994532Z"
    }
   }
  }
 ],
 "metadata": {
  "kernelspec": {
   "display_name": "Python 3",
   "language": "python",
   "name": "python3"
  },
  "language_info": {
   "codemirror_mode": {
    "name": "ipython",
    "version": 2
   },
   "file_extension": ".py",
   "mimetype": "text/x-python",
   "name": "python",
   "nbconvert_exporter": "python",
   "pygments_lexer": "ipython2",
   "version": "2.7.6"
  }
 },
 "nbformat": 4,
 "nbformat_minor": 0
}
