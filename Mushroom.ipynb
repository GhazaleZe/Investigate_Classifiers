{
 "cells": [
  {
   "cell_type": "code",
   "execution_count": 355,
   "outputs": [],
   "source": [
    "import numpy as np\n",
    "import pandas as pd\n",
    "from sklearn import datasets\n",
    "from sklearn.model_selection import train_test_split, cross_val_score\n",
    "from sklearn.svm import SVC\n",
    "from sklearn.metrics import accuracy_score\n",
    "from sklearn.model_selection import KFold\n"
   ],
   "metadata": {
    "collapsed": false,
    "ExecuteTime": {
     "end_time": "2023-10-28T21:10:53.804679Z",
     "start_time": "2023-10-28T21:10:53.799569Z"
    }
   }
  },
  {
   "cell_type": "code",
   "execution_count": 356,
   "outputs": [
    {
     "data": {
      "text/plain": "     instance  feature  value\n452      5127        2      1\n453      5509        2      1\n454      7402        2      1\n455      7707        2      1",
      "text/html": "<div>\n<style scoped>\n    .dataframe tbody tr th:only-of-type {\n        vertical-align: middle;\n    }\n\n    .dataframe tbody tr th {\n        vertical-align: top;\n    }\n\n    .dataframe thead th {\n        text-align: right;\n    }\n</style>\n<table border=\"1\" class=\"dataframe\">\n  <thead>\n    <tr style=\"text-align: right;\">\n      <th></th>\n      <th>instance</th>\n      <th>feature</th>\n      <th>value</th>\n    </tr>\n  </thead>\n  <tbody>\n    <tr>\n      <th>452</th>\n      <td>5127</td>\n      <td>2</td>\n      <td>1</td>\n    </tr>\n    <tr>\n      <th>453</th>\n      <td>5509</td>\n      <td>2</td>\n      <td>1</td>\n    </tr>\n    <tr>\n      <th>454</th>\n      <td>7402</td>\n      <td>2</td>\n      <td>1</td>\n    </tr>\n    <tr>\n      <th>455</th>\n      <td>7707</td>\n      <td>2</td>\n      <td>1</td>\n    </tr>\n  </tbody>\n</table>\n</div>"
     },
     "execution_count": 356,
     "metadata": {},
     "output_type": "execute_result"
    }
   ],
   "source": [
    "custom_column_names = [\"instance\", \"feature\", \"value\"]\n",
    "df_train_x = pd.read_csv(\"train_X.csv\", names=custom_column_names)\n",
    "df_train_x[df_train_x['feature']==2]"
   ],
   "metadata": {
    "collapsed": false,
    "ExecuteTime": {
     "end_time": "2023-10-28T21:10:53.860393Z",
     "start_time": "2023-10-28T21:10:53.806862Z"
    }
   }
  },
  {
   "cell_type": "code",
   "execution_count": 357,
   "outputs": [
    {
     "data": {
      "text/plain": "     instance  feature  value\n509        45       16      1\n510       134       16      1",
      "text/html": "<div>\n<style scoped>\n    .dataframe tbody tr th:only-of-type {\n        vertical-align: middle;\n    }\n\n    .dataframe tbody tr th {\n        vertical-align: top;\n    }\n\n    .dataframe thead th {\n        text-align: right;\n    }\n</style>\n<table border=\"1\" class=\"dataframe\">\n  <thead>\n    <tr style=\"text-align: right;\">\n      <th></th>\n      <th>instance</th>\n      <th>feature</th>\n      <th>value</th>\n    </tr>\n  </thead>\n  <tbody>\n    <tr>\n      <th>509</th>\n      <td>45</td>\n      <td>16</td>\n      <td>1</td>\n    </tr>\n    <tr>\n      <th>510</th>\n      <td>134</td>\n      <td>16</td>\n      <td>1</td>\n    </tr>\n  </tbody>\n</table>\n</div>"
     },
     "execution_count": 357,
     "metadata": {},
     "output_type": "execute_result"
    }
   ],
   "source": [
    "df_test_x = pd.read_csv(\"test_X.csv\", names=custom_column_names)\n",
    "df_test_x[df_test_x['feature']==16]"
   ],
   "metadata": {
    "collapsed": false,
    "ExecuteTime": {
     "end_time": "2023-10-28T21:10:53.874741Z",
     "start_time": "2023-10-28T21:10:53.863244Z"
    }
   }
  },
  {
   "cell_type": "code",
   "execution_count": 358,
   "outputs": [
    {
     "data": {
      "text/plain": "      feature_1  feature_2  feature_3  feature_4  feature_5  feature_6  \\\n0           0.0        0.0        0.0        0.0        0.0        1.0   \n1           0.0        0.0        0.0        0.0        0.0        1.0   \n2           1.0        0.0        0.0        0.0        0.0        0.0   \n3           0.0        0.0        0.0        0.0        0.0        1.0   \n4           0.0        0.0        0.0        0.0        0.0        1.0   \n...         ...        ...        ...        ...        ...        ...   \n8119        0.0        0.0        0.0        1.0        0.0        0.0   \n8120        0.0        0.0        0.0        0.0        0.0        1.0   \n8121        0.0        0.0        1.0        0.0        0.0        0.0   \n8122        0.0        0.0        0.0        1.0        0.0        0.0   \n8123        0.0        0.0        0.0        0.0        0.0        1.0   \n\n      feature_7  feature_8  feature_9  feature_10  ...  feature_103  \\\n0           0.0        0.0        1.0         0.0  ...          1.0   \n1           0.0        0.0        1.0         0.0  ...          0.0   \n2           0.0        0.0        1.0         0.0  ...          0.0   \n3           0.0        0.0        0.0         1.0  ...          1.0   \n4           0.0        0.0        1.0         0.0  ...          0.0   \n...         ...        ...        ...         ...  ...          ...   \n8119        0.0        0.0        1.0         0.0  ...          0.0   \n8120        0.0        0.0        1.0         0.0  ...          0.0   \n8121        0.0        0.0        1.0         0.0  ...          0.0   \n8122        0.0        0.0        0.0         1.0  ...          0.0   \n8123        0.0        0.0        1.0         0.0  ...          0.0   \n\n      feature_104  feature_105  feature_106  feature_107  feature_108  \\\n0             0.0          0.0          0.0          0.0          0.0   \n1             0.0          0.0          0.0          1.0          0.0   \n2             0.0          0.0          0.0          0.0          0.0   \n3             0.0          0.0          0.0          0.0          0.0   \n4             0.0          0.0          0.0          1.0          0.0   \n...           ...          ...          ...          ...          ...   \n8119          0.0          0.0          0.0          0.0          1.0   \n8120          1.0          0.0          0.0          0.0          1.0   \n8121          0.0          0.0          0.0          0.0          1.0   \n8122          1.0          0.0          0.0          0.0          1.0   \n8123          0.0          0.0          0.0          0.0          1.0   \n\n      feature_109  feature_110  feature_111  feature_112  \n0             0.0          0.0          1.0          0.0  \n1             0.0          0.0          0.0          0.0  \n2             1.0          0.0          0.0          0.0  \n3             0.0          0.0          1.0          0.0  \n4             0.0          0.0          0.0          0.0  \n...           ...          ...          ...          ...  \n8119          0.0          0.0          0.0          0.0  \n8120          0.0          0.0          0.0          0.0  \n8121          0.0          0.0          0.0          0.0  \n8122          0.0          0.0          0.0          0.0  \n8123          0.0          0.0          0.0          0.0  \n\n[8124 rows x 112 columns]",
      "text/html": "<div>\n<style scoped>\n    .dataframe tbody tr th:only-of-type {\n        vertical-align: middle;\n    }\n\n    .dataframe tbody tr th {\n        vertical-align: top;\n    }\n\n    .dataframe thead th {\n        text-align: right;\n    }\n</style>\n<table border=\"1\" class=\"dataframe\">\n  <thead>\n    <tr style=\"text-align: right;\">\n      <th></th>\n      <th>feature_1</th>\n      <th>feature_2</th>\n      <th>feature_3</th>\n      <th>feature_4</th>\n      <th>feature_5</th>\n      <th>feature_6</th>\n      <th>feature_7</th>\n      <th>feature_8</th>\n      <th>feature_9</th>\n      <th>feature_10</th>\n      <th>...</th>\n      <th>feature_103</th>\n      <th>feature_104</th>\n      <th>feature_105</th>\n      <th>feature_106</th>\n      <th>feature_107</th>\n      <th>feature_108</th>\n      <th>feature_109</th>\n      <th>feature_110</th>\n      <th>feature_111</th>\n      <th>feature_112</th>\n    </tr>\n  </thead>\n  <tbody>\n    <tr>\n      <th>0</th>\n      <td>0.0</td>\n      <td>0.0</td>\n      <td>0.0</td>\n      <td>0.0</td>\n      <td>0.0</td>\n      <td>1.0</td>\n      <td>0.0</td>\n      <td>0.0</td>\n      <td>1.0</td>\n      <td>0.0</td>\n      <td>...</td>\n      <td>1.0</td>\n      <td>0.0</td>\n      <td>0.0</td>\n      <td>0.0</td>\n      <td>0.0</td>\n      <td>0.0</td>\n      <td>0.0</td>\n      <td>0.0</td>\n      <td>1.0</td>\n      <td>0.0</td>\n    </tr>\n    <tr>\n      <th>1</th>\n      <td>0.0</td>\n      <td>0.0</td>\n      <td>0.0</td>\n      <td>0.0</td>\n      <td>0.0</td>\n      <td>1.0</td>\n      <td>0.0</td>\n      <td>0.0</td>\n      <td>1.0</td>\n      <td>0.0</td>\n      <td>...</td>\n      <td>0.0</td>\n      <td>0.0</td>\n      <td>0.0</td>\n      <td>0.0</td>\n      <td>1.0</td>\n      <td>0.0</td>\n      <td>0.0</td>\n      <td>0.0</td>\n      <td>0.0</td>\n      <td>0.0</td>\n    </tr>\n    <tr>\n      <th>2</th>\n      <td>1.0</td>\n      <td>0.0</td>\n      <td>0.0</td>\n      <td>0.0</td>\n      <td>0.0</td>\n      <td>0.0</td>\n      <td>0.0</td>\n      <td>0.0</td>\n      <td>1.0</td>\n      <td>0.0</td>\n      <td>...</td>\n      <td>0.0</td>\n      <td>0.0</td>\n      <td>0.0</td>\n      <td>0.0</td>\n      <td>0.0</td>\n      <td>0.0</td>\n      <td>1.0</td>\n      <td>0.0</td>\n      <td>0.0</td>\n      <td>0.0</td>\n    </tr>\n    <tr>\n      <th>3</th>\n      <td>0.0</td>\n      <td>0.0</td>\n      <td>0.0</td>\n      <td>0.0</td>\n      <td>0.0</td>\n      <td>1.0</td>\n      <td>0.0</td>\n      <td>0.0</td>\n      <td>0.0</td>\n      <td>1.0</td>\n      <td>...</td>\n      <td>1.0</td>\n      <td>0.0</td>\n      <td>0.0</td>\n      <td>0.0</td>\n      <td>0.0</td>\n      <td>0.0</td>\n      <td>0.0</td>\n      <td>0.0</td>\n      <td>1.0</td>\n      <td>0.0</td>\n    </tr>\n    <tr>\n      <th>4</th>\n      <td>0.0</td>\n      <td>0.0</td>\n      <td>0.0</td>\n      <td>0.0</td>\n      <td>0.0</td>\n      <td>1.0</td>\n      <td>0.0</td>\n      <td>0.0</td>\n      <td>1.0</td>\n      <td>0.0</td>\n      <td>...</td>\n      <td>0.0</td>\n      <td>0.0</td>\n      <td>0.0</td>\n      <td>0.0</td>\n      <td>1.0</td>\n      <td>0.0</td>\n      <td>0.0</td>\n      <td>0.0</td>\n      <td>0.0</td>\n      <td>0.0</td>\n    </tr>\n    <tr>\n      <th>...</th>\n      <td>...</td>\n      <td>...</td>\n      <td>...</td>\n      <td>...</td>\n      <td>...</td>\n      <td>...</td>\n      <td>...</td>\n      <td>...</td>\n      <td>...</td>\n      <td>...</td>\n      <td>...</td>\n      <td>...</td>\n      <td>...</td>\n      <td>...</td>\n      <td>...</td>\n      <td>...</td>\n      <td>...</td>\n      <td>...</td>\n      <td>...</td>\n      <td>...</td>\n      <td>...</td>\n    </tr>\n    <tr>\n      <th>8119</th>\n      <td>0.0</td>\n      <td>0.0</td>\n      <td>0.0</td>\n      <td>1.0</td>\n      <td>0.0</td>\n      <td>0.0</td>\n      <td>0.0</td>\n      <td>0.0</td>\n      <td>1.0</td>\n      <td>0.0</td>\n      <td>...</td>\n      <td>0.0</td>\n      <td>0.0</td>\n      <td>0.0</td>\n      <td>0.0</td>\n      <td>0.0</td>\n      <td>1.0</td>\n      <td>0.0</td>\n      <td>0.0</td>\n      <td>0.0</td>\n      <td>0.0</td>\n    </tr>\n    <tr>\n      <th>8120</th>\n      <td>0.0</td>\n      <td>0.0</td>\n      <td>0.0</td>\n      <td>0.0</td>\n      <td>0.0</td>\n      <td>1.0</td>\n      <td>0.0</td>\n      <td>0.0</td>\n      <td>1.0</td>\n      <td>0.0</td>\n      <td>...</td>\n      <td>0.0</td>\n      <td>1.0</td>\n      <td>0.0</td>\n      <td>0.0</td>\n      <td>0.0</td>\n      <td>1.0</td>\n      <td>0.0</td>\n      <td>0.0</td>\n      <td>0.0</td>\n      <td>0.0</td>\n    </tr>\n    <tr>\n      <th>8121</th>\n      <td>0.0</td>\n      <td>0.0</td>\n      <td>1.0</td>\n      <td>0.0</td>\n      <td>0.0</td>\n      <td>0.0</td>\n      <td>0.0</td>\n      <td>0.0</td>\n      <td>1.0</td>\n      <td>0.0</td>\n      <td>...</td>\n      <td>0.0</td>\n      <td>0.0</td>\n      <td>0.0</td>\n      <td>0.0</td>\n      <td>0.0</td>\n      <td>1.0</td>\n      <td>0.0</td>\n      <td>0.0</td>\n      <td>0.0</td>\n      <td>0.0</td>\n    </tr>\n    <tr>\n      <th>8122</th>\n      <td>0.0</td>\n      <td>0.0</td>\n      <td>0.0</td>\n      <td>1.0</td>\n      <td>0.0</td>\n      <td>0.0</td>\n      <td>0.0</td>\n      <td>0.0</td>\n      <td>0.0</td>\n      <td>1.0</td>\n      <td>...</td>\n      <td>0.0</td>\n      <td>1.0</td>\n      <td>0.0</td>\n      <td>0.0</td>\n      <td>0.0</td>\n      <td>1.0</td>\n      <td>0.0</td>\n      <td>0.0</td>\n      <td>0.0</td>\n      <td>0.0</td>\n    </tr>\n    <tr>\n      <th>8123</th>\n      <td>0.0</td>\n      <td>0.0</td>\n      <td>0.0</td>\n      <td>0.0</td>\n      <td>0.0</td>\n      <td>1.0</td>\n      <td>0.0</td>\n      <td>0.0</td>\n      <td>1.0</td>\n      <td>0.0</td>\n      <td>...</td>\n      <td>0.0</td>\n      <td>0.0</td>\n      <td>0.0</td>\n      <td>0.0</td>\n      <td>0.0</td>\n      <td>1.0</td>\n      <td>0.0</td>\n      <td>0.0</td>\n      <td>0.0</td>\n      <td>0.0</td>\n    </tr>\n  </tbody>\n</table>\n<p>8124 rows × 112 columns</p>\n</div>"
     },
     "execution_count": 358,
     "metadata": {},
     "output_type": "execute_result"
    }
   ],
   "source": [
    "\n",
    "\n",
    "\n",
    "def loading_data():\n",
    "    # x train\n",
    "    custom_column_names = [\"instance\", \"feature\", \"value\"]\n",
    "    df_train_x = pd.read_csv(\"train_X.csv\", names=custom_column_names)\n",
    "    df_pivot = df_train_x.pivot(index=\"instance\", columns=\"feature\", values=\"value\").fillna(0)\n",
    "\n",
    "    # Reset the index to make \"instance\" a regular column\n",
    "    df_pivot.reset_index(inplace=True)\n",
    "\n",
    "    # Rename the columns for clarity (0 and 1 instead of 0.0 and 1.0)\n",
    "    df_pivot.columns = [f\"feature_{col}\" if col != \"instance\" else col for col in df_pivot.columns]\n",
    "\n",
    "    # Optional: Convert \"instance\" column to an integer (if it's not already)\n",
    "    df_pivot[\"instance\"] = df_pivot[\"instance\"]\n",
    "    df_pivot.drop(columns=['instance'], inplace=True)\n",
    "    # y train\n",
    "    custom_Y_names = [\"poisonous\"]\n",
    "    df_train_Y = pd.read_csv(\"train_Y.csv\", names=custom_Y_names)\n",
    "\n",
    "    # x test\n",
    "    df_test_x = pd.read_csv(\"test_X.csv\", names=custom_column_names)\n",
    "    df_pivot_test = df_test_x.pivot(index=\"instance\", columns=\"feature\", values=\"value\").fillna(0)\n",
    "\n",
    "    # Reset the index to make \"instance\" a regular column\n",
    "    df_pivot_test.reset_index(inplace=True)\n",
    "\n",
    "    # Rename the columns for clarity (0 and 1 instead of 0.0 and 1.0)\n",
    "    df_pivot_test.columns = [f\"feature_{col}\" if col != \"instance\" else col for col in df_pivot_test.columns]\n",
    "\n",
    "    # Optional: Convert \"instance\" column to an integer (if it's not already)\n",
    "    df_pivot_test[\"instance\"] = df_pivot_test[\"instance\"]\n",
    "    df_pivot_test.drop(columns=['instance'], inplace=True)\n",
    "\n",
    "    # y test\n",
    "\n",
    "    df_test_Y = pd.read_csv(\"test_Y.csv\", names=custom_Y_names)\n",
    "\n",
    "    return df_pivot, df_train_Y, df_pivot_test, df_test_Y\n",
    "\n",
    "x_train, y_train, x_test, y_test = loading_data()\n",
    "#x_train[x_train['feature_2']==1.0]\n",
    "x_train"
   ],
   "metadata": {
    "collapsed": false,
    "ExecuteTime": {
     "end_time": "2023-10-28T21:10:54.056120Z",
     "start_time": "2023-10-28T21:10:53.874896Z"
    }
   }
  },
  {
   "cell_type": "code",
   "execution_count": 359,
   "outputs": [
    {
     "data": {
      "text/plain": "      poisonous\n0            -1\n1             1\n2             1\n3            -1\n4             1\n...         ...\n8119          1\n8120          1\n8121          1\n8122         -1\n8123          1\n\n[8124 rows x 1 columns]",
      "text/html": "<div>\n<style scoped>\n    .dataframe tbody tr th:only-of-type {\n        vertical-align: middle;\n    }\n\n    .dataframe tbody tr th {\n        vertical-align: top;\n    }\n\n    .dataframe thead th {\n        text-align: right;\n    }\n</style>\n<table border=\"1\" class=\"dataframe\">\n  <thead>\n    <tr style=\"text-align: right;\">\n      <th></th>\n      <th>poisonous</th>\n    </tr>\n  </thead>\n  <tbody>\n    <tr>\n      <th>0</th>\n      <td>-1</td>\n    </tr>\n    <tr>\n      <th>1</th>\n      <td>1</td>\n    </tr>\n    <tr>\n      <th>2</th>\n      <td>1</td>\n    </tr>\n    <tr>\n      <th>3</th>\n      <td>-1</td>\n    </tr>\n    <tr>\n      <th>4</th>\n      <td>1</td>\n    </tr>\n    <tr>\n      <th>...</th>\n      <td>...</td>\n    </tr>\n    <tr>\n      <th>8119</th>\n      <td>1</td>\n    </tr>\n    <tr>\n      <th>8120</th>\n      <td>1</td>\n    </tr>\n    <tr>\n      <th>8121</th>\n      <td>1</td>\n    </tr>\n    <tr>\n      <th>8122</th>\n      <td>-1</td>\n    </tr>\n    <tr>\n      <th>8123</th>\n      <td>1</td>\n    </tr>\n  </tbody>\n</table>\n<p>8124 rows × 1 columns</p>\n</div>"
     },
     "execution_count": 359,
     "metadata": {},
     "output_type": "execute_result"
    }
   ],
   "source": [
    "y_train"
   ],
   "metadata": {
    "collapsed": false,
    "ExecuteTime": {
     "end_time": "2023-10-28T21:10:54.060065Z",
     "start_time": "2023-10-28T21:10:54.053079Z"
    }
   }
  },
  {
   "cell_type": "code",
   "execution_count": 360,
   "outputs": [
    {
     "data": {
      "text/plain": "     feature_1  feature_3  feature_4  feature_5  feature_6  feature_7  \\\n0          0.0        1.0        0.0        0.0        0.0        0.0   \n1          0.0        0.0        0.0        0.0        1.0        0.0   \n2          0.0        0.0        0.0        0.0        1.0        1.0   \n3          0.0        0.0        0.0        0.0        1.0        0.0   \n4          0.0        1.0        0.0        0.0        0.0        0.0   \n..         ...        ...        ...        ...        ...        ...   \n195        0.0        0.0        0.0        0.0        1.0        0.0   \n196        0.0        0.0        0.0        0.0        1.0        1.0   \n197        0.0        1.0        0.0        0.0        0.0        0.0   \n198        0.0        1.0        0.0        0.0        0.0        1.0   \n199        0.0        0.0        0.0        0.0        1.0        1.0   \n\n     feature_9  feature_10  feature_11  feature_12  ...  feature_103  \\\n0          0.0         1.0         0.0         0.0  ...          0.0   \n1          0.0         1.0         0.0         0.0  ...          0.0   \n2          0.0         0.0         0.0         0.0  ...          0.0   \n3          1.0         0.0         0.0         0.0  ...          0.0   \n4          0.0         1.0         0.0         0.0  ...          0.0   \n..         ...         ...         ...         ...  ...          ...   \n195        0.0         1.0         0.0         0.0  ...          0.0   \n196        0.0         0.0         0.0         0.0  ...          0.0   \n197        0.0         1.0         0.0         0.0  ...          0.0   \n198        0.0         0.0         0.0         0.0  ...          0.0   \n199        0.0         0.0         0.0         0.0  ...          0.0   \n\n     feature_104  feature_105  feature_106  feature_107  feature_108  \\\n0            1.0          0.0          0.0          0.0          0.0   \n1            0.0          1.0          0.0          1.0          0.0   \n2            0.0          1.0          0.0          1.0          0.0   \n3            1.0          0.0          1.0          0.0          0.0   \n4            1.0          0.0          1.0          0.0          0.0   \n..           ...          ...          ...          ...          ...   \n195          0.0          1.0          0.0          0.0          0.0   \n196          1.0          0.0          0.0          0.0          0.0   \n197          1.0          0.0          0.0          0.0          0.0   \n198          0.0          1.0          1.0          0.0          0.0   \n199          1.0          0.0          0.0          0.0          0.0   \n\n     feature_109  feature_110  feature_111  feature_112  \n0            0.0          1.0          0.0          0.0  \n1            0.0          0.0          0.0          0.0  \n2            0.0          0.0          0.0          0.0  \n3            0.0          0.0          0.0          0.0  \n4            0.0          0.0          0.0          0.0  \n..           ...          ...          ...          ...  \n195          0.0          0.0          0.0          0.0  \n196          0.0          1.0          0.0          0.0  \n197          0.0          1.0          0.0          0.0  \n198          0.0          0.0          0.0          0.0  \n199          0.0          0.0          1.0          0.0  \n\n[200 rows x 103 columns]",
      "text/html": "<div>\n<style scoped>\n    .dataframe tbody tr th:only-of-type {\n        vertical-align: middle;\n    }\n\n    .dataframe tbody tr th {\n        vertical-align: top;\n    }\n\n    .dataframe thead th {\n        text-align: right;\n    }\n</style>\n<table border=\"1\" class=\"dataframe\">\n  <thead>\n    <tr style=\"text-align: right;\">\n      <th></th>\n      <th>feature_1</th>\n      <th>feature_3</th>\n      <th>feature_4</th>\n      <th>feature_5</th>\n      <th>feature_6</th>\n      <th>feature_7</th>\n      <th>feature_9</th>\n      <th>feature_10</th>\n      <th>feature_11</th>\n      <th>feature_12</th>\n      <th>...</th>\n      <th>feature_103</th>\n      <th>feature_104</th>\n      <th>feature_105</th>\n      <th>feature_106</th>\n      <th>feature_107</th>\n      <th>feature_108</th>\n      <th>feature_109</th>\n      <th>feature_110</th>\n      <th>feature_111</th>\n      <th>feature_112</th>\n    </tr>\n  </thead>\n  <tbody>\n    <tr>\n      <th>0</th>\n      <td>0.0</td>\n      <td>1.0</td>\n      <td>0.0</td>\n      <td>0.0</td>\n      <td>0.0</td>\n      <td>0.0</td>\n      <td>0.0</td>\n      <td>1.0</td>\n      <td>0.0</td>\n      <td>0.0</td>\n      <td>...</td>\n      <td>0.0</td>\n      <td>1.0</td>\n      <td>0.0</td>\n      <td>0.0</td>\n      <td>0.0</td>\n      <td>0.0</td>\n      <td>0.0</td>\n      <td>1.0</td>\n      <td>0.0</td>\n      <td>0.0</td>\n    </tr>\n    <tr>\n      <th>1</th>\n      <td>0.0</td>\n      <td>0.0</td>\n      <td>0.0</td>\n      <td>0.0</td>\n      <td>1.0</td>\n      <td>0.0</td>\n      <td>0.0</td>\n      <td>1.0</td>\n      <td>0.0</td>\n      <td>0.0</td>\n      <td>...</td>\n      <td>0.0</td>\n      <td>0.0</td>\n      <td>1.0</td>\n      <td>0.0</td>\n      <td>1.0</td>\n      <td>0.0</td>\n      <td>0.0</td>\n      <td>0.0</td>\n      <td>0.0</td>\n      <td>0.0</td>\n    </tr>\n    <tr>\n      <th>2</th>\n      <td>0.0</td>\n      <td>0.0</td>\n      <td>0.0</td>\n      <td>0.0</td>\n      <td>1.0</td>\n      <td>1.0</td>\n      <td>0.0</td>\n      <td>0.0</td>\n      <td>0.0</td>\n      <td>0.0</td>\n      <td>...</td>\n      <td>0.0</td>\n      <td>0.0</td>\n      <td>1.0</td>\n      <td>0.0</td>\n      <td>1.0</td>\n      <td>0.0</td>\n      <td>0.0</td>\n      <td>0.0</td>\n      <td>0.0</td>\n      <td>0.0</td>\n    </tr>\n    <tr>\n      <th>3</th>\n      <td>0.0</td>\n      <td>0.0</td>\n      <td>0.0</td>\n      <td>0.0</td>\n      <td>1.0</td>\n      <td>0.0</td>\n      <td>1.0</td>\n      <td>0.0</td>\n      <td>0.0</td>\n      <td>0.0</td>\n      <td>...</td>\n      <td>0.0</td>\n      <td>1.0</td>\n      <td>0.0</td>\n      <td>1.0</td>\n      <td>0.0</td>\n      <td>0.0</td>\n      <td>0.0</td>\n      <td>0.0</td>\n      <td>0.0</td>\n      <td>0.0</td>\n    </tr>\n    <tr>\n      <th>4</th>\n      <td>0.0</td>\n      <td>1.0</td>\n      <td>0.0</td>\n      <td>0.0</td>\n      <td>0.0</td>\n      <td>0.0</td>\n      <td>0.0</td>\n      <td>1.0</td>\n      <td>0.0</td>\n      <td>0.0</td>\n      <td>...</td>\n      <td>0.0</td>\n      <td>1.0</td>\n      <td>0.0</td>\n      <td>1.0</td>\n      <td>0.0</td>\n      <td>0.0</td>\n      <td>0.0</td>\n      <td>0.0</td>\n      <td>0.0</td>\n      <td>0.0</td>\n    </tr>\n    <tr>\n      <th>...</th>\n      <td>...</td>\n      <td>...</td>\n      <td>...</td>\n      <td>...</td>\n      <td>...</td>\n      <td>...</td>\n      <td>...</td>\n      <td>...</td>\n      <td>...</td>\n      <td>...</td>\n      <td>...</td>\n      <td>...</td>\n      <td>...</td>\n      <td>...</td>\n      <td>...</td>\n      <td>...</td>\n      <td>...</td>\n      <td>...</td>\n      <td>...</td>\n      <td>...</td>\n      <td>...</td>\n    </tr>\n    <tr>\n      <th>195</th>\n      <td>0.0</td>\n      <td>0.0</td>\n      <td>0.0</td>\n      <td>0.0</td>\n      <td>1.0</td>\n      <td>0.0</td>\n      <td>0.0</td>\n      <td>1.0</td>\n      <td>0.0</td>\n      <td>0.0</td>\n      <td>...</td>\n      <td>0.0</td>\n      <td>0.0</td>\n      <td>1.0</td>\n      <td>0.0</td>\n      <td>0.0</td>\n      <td>0.0</td>\n      <td>0.0</td>\n      <td>0.0</td>\n      <td>0.0</td>\n      <td>0.0</td>\n    </tr>\n    <tr>\n      <th>196</th>\n      <td>0.0</td>\n      <td>0.0</td>\n      <td>0.0</td>\n      <td>0.0</td>\n      <td>1.0</td>\n      <td>1.0</td>\n      <td>0.0</td>\n      <td>0.0</td>\n      <td>0.0</td>\n      <td>0.0</td>\n      <td>...</td>\n      <td>0.0</td>\n      <td>1.0</td>\n      <td>0.0</td>\n      <td>0.0</td>\n      <td>0.0</td>\n      <td>0.0</td>\n      <td>0.0</td>\n      <td>1.0</td>\n      <td>0.0</td>\n      <td>0.0</td>\n    </tr>\n    <tr>\n      <th>197</th>\n      <td>0.0</td>\n      <td>1.0</td>\n      <td>0.0</td>\n      <td>0.0</td>\n      <td>0.0</td>\n      <td>0.0</td>\n      <td>0.0</td>\n      <td>1.0</td>\n      <td>0.0</td>\n      <td>0.0</td>\n      <td>...</td>\n      <td>0.0</td>\n      <td>1.0</td>\n      <td>0.0</td>\n      <td>0.0</td>\n      <td>0.0</td>\n      <td>0.0</td>\n      <td>0.0</td>\n      <td>1.0</td>\n      <td>0.0</td>\n      <td>0.0</td>\n    </tr>\n    <tr>\n      <th>198</th>\n      <td>0.0</td>\n      <td>1.0</td>\n      <td>0.0</td>\n      <td>0.0</td>\n      <td>0.0</td>\n      <td>1.0</td>\n      <td>0.0</td>\n      <td>0.0</td>\n      <td>0.0</td>\n      <td>0.0</td>\n      <td>...</td>\n      <td>0.0</td>\n      <td>0.0</td>\n      <td>1.0</td>\n      <td>1.0</td>\n      <td>0.0</td>\n      <td>0.0</td>\n      <td>0.0</td>\n      <td>0.0</td>\n      <td>0.0</td>\n      <td>0.0</td>\n    </tr>\n    <tr>\n      <th>199</th>\n      <td>0.0</td>\n      <td>0.0</td>\n      <td>0.0</td>\n      <td>0.0</td>\n      <td>1.0</td>\n      <td>1.0</td>\n      <td>0.0</td>\n      <td>0.0</td>\n      <td>0.0</td>\n      <td>0.0</td>\n      <td>...</td>\n      <td>0.0</td>\n      <td>1.0</td>\n      <td>0.0</td>\n      <td>0.0</td>\n      <td>0.0</td>\n      <td>0.0</td>\n      <td>0.0</td>\n      <td>0.0</td>\n      <td>1.0</td>\n      <td>0.0</td>\n    </tr>\n  </tbody>\n</table>\n<p>200 rows × 103 columns</p>\n</div>"
     },
     "execution_count": 360,
     "metadata": {},
     "output_type": "execute_result"
    }
   ],
   "source": [
    "x_test"
   ],
   "metadata": {
    "collapsed": false,
    "ExecuteTime": {
     "end_time": "2023-10-28T21:10:54.190927Z",
     "start_time": "2023-10-28T21:10:54.062226Z"
    }
   }
  },
  {
   "cell_type": "code",
   "execution_count": 361,
   "outputs": [
    {
     "data": {
      "text/plain": "     poisonous\n0           -1\n1            1\n2           -1\n3           -1\n4            1\n..         ...\n195          1\n196         -1\n197         -1\n198          1\n199          1\n\n[200 rows x 1 columns]",
      "text/html": "<div>\n<style scoped>\n    .dataframe tbody tr th:only-of-type {\n        vertical-align: middle;\n    }\n\n    .dataframe tbody tr th {\n        vertical-align: top;\n    }\n\n    .dataframe thead th {\n        text-align: right;\n    }\n</style>\n<table border=\"1\" class=\"dataframe\">\n  <thead>\n    <tr style=\"text-align: right;\">\n      <th></th>\n      <th>poisonous</th>\n    </tr>\n  </thead>\n  <tbody>\n    <tr>\n      <th>0</th>\n      <td>-1</td>\n    </tr>\n    <tr>\n      <th>1</th>\n      <td>1</td>\n    </tr>\n    <tr>\n      <th>2</th>\n      <td>-1</td>\n    </tr>\n    <tr>\n      <th>3</th>\n      <td>-1</td>\n    </tr>\n    <tr>\n      <th>4</th>\n      <td>1</td>\n    </tr>\n    <tr>\n      <th>...</th>\n      <td>...</td>\n    </tr>\n    <tr>\n      <th>195</th>\n      <td>1</td>\n    </tr>\n    <tr>\n      <th>196</th>\n      <td>-1</td>\n    </tr>\n    <tr>\n      <th>197</th>\n      <td>-1</td>\n    </tr>\n    <tr>\n      <th>198</th>\n      <td>1</td>\n    </tr>\n    <tr>\n      <th>199</th>\n      <td>1</td>\n    </tr>\n  </tbody>\n</table>\n<p>200 rows × 1 columns</p>\n</div>"
     },
     "execution_count": 361,
     "metadata": {},
     "output_type": "execute_result"
    }
   ],
   "source": [
    "y_test"
   ],
   "metadata": {
    "collapsed": false,
    "ExecuteTime": {
     "end_time": "2023-10-28T21:10:54.195887Z",
     "start_time": "2023-10-28T21:10:54.109978Z"
    }
   }
  },
  {
   "cell_type": "code",
   "execution_count": 362,
   "outputs": [
    {
     "data": {
      "text/plain": "Index(['feature_1', 'feature_3', 'feature_4', 'feature_5', 'feature_6',\n       'feature_7', 'feature_9', 'feature_10', 'feature_11', 'feature_12',\n       ...\n       'feature_103', 'feature_104', 'feature_105', 'feature_106',\n       'feature_107', 'feature_108', 'feature_109', 'feature_110',\n       'feature_111', 'feature_112'],\n      dtype='object', length=103)"
     },
     "execution_count": 362,
     "metadata": {},
     "output_type": "execute_result"
    }
   ],
   "source": [
    "x_test.columns"
   ],
   "metadata": {
    "collapsed": false,
    "ExecuteTime": {
     "end_time": "2023-10-28T21:10:54.209013Z",
     "start_time": "2023-10-28T21:10:54.114707Z"
    }
   }
  },
  {
   "cell_type": "code",
   "execution_count": 363,
   "outputs": [
    {
     "data": {
      "text/plain": "Index(['feature_1', 'feature_2', 'feature_3', 'feature_4', 'feature_5',\n       'feature_6', 'feature_7', 'feature_8', 'feature_9', 'feature_10',\n       ...\n       'feature_103', 'feature_104', 'feature_105', 'feature_106',\n       'feature_107', 'feature_108', 'feature_109', 'feature_110',\n       'feature_111', 'feature_112'],\n      dtype='object', length=112)"
     },
     "execution_count": 363,
     "metadata": {},
     "output_type": "execute_result"
    }
   ],
   "source": [
    "x_train.columns"
   ],
   "metadata": {
    "collapsed": false,
    "ExecuteTime": {
     "end_time": "2023-10-28T21:10:54.209468Z",
     "start_time": "2023-10-28T21:10:54.127351Z"
    }
   }
  },
  {
   "cell_type": "code",
   "execution_count": 364,
   "outputs": [
    {
     "data": {
      "text/plain": "      feature_1  feature_3  feature_4  feature_5  feature_6  feature_7  \\\n0           0.0        0.0        0.0        0.0        1.0        0.0   \n1           0.0        0.0        0.0        0.0        1.0        0.0   \n2           1.0        0.0        0.0        0.0        0.0        0.0   \n3           0.0        0.0        0.0        0.0        1.0        0.0   \n4           0.0        0.0        0.0        0.0        1.0        0.0   \n...         ...        ...        ...        ...        ...        ...   \n8119        0.0        0.0        1.0        0.0        0.0        0.0   \n8120        0.0        0.0        0.0        0.0        1.0        0.0   \n8121        0.0        1.0        0.0        0.0        0.0        0.0   \n8122        0.0        0.0        1.0        0.0        0.0        0.0   \n8123        0.0        0.0        0.0        0.0        1.0        0.0   \n\n      feature_9  feature_10  feature_11  feature_12  ...  feature_103  \\\n0           1.0         0.0         0.0         0.0  ...          1.0   \n1           1.0         0.0         0.0         0.0  ...          0.0   \n2           1.0         0.0         0.0         0.0  ...          0.0   \n3           0.0         1.0         0.0         0.0  ...          1.0   \n4           1.0         0.0         0.0         0.0  ...          0.0   \n...         ...         ...         ...         ...  ...          ...   \n8119        1.0         0.0         0.0         0.0  ...          0.0   \n8120        1.0         0.0         0.0         0.0  ...          0.0   \n8121        1.0         0.0         0.0         0.0  ...          0.0   \n8122        0.0         1.0         0.0         0.0  ...          0.0   \n8123        1.0         0.0         0.0         0.0  ...          0.0   \n\n      feature_104  feature_105  feature_106  feature_107  feature_108  \\\n0             0.0          0.0          0.0          0.0          0.0   \n1             0.0          0.0          0.0          1.0          0.0   \n2             0.0          0.0          0.0          0.0          0.0   \n3             0.0          0.0          0.0          0.0          0.0   \n4             0.0          0.0          0.0          1.0          0.0   \n...           ...          ...          ...          ...          ...   \n8119          0.0          0.0          0.0          0.0          1.0   \n8120          1.0          0.0          0.0          0.0          1.0   \n8121          0.0          0.0          0.0          0.0          1.0   \n8122          1.0          0.0          0.0          0.0          1.0   \n8123          0.0          0.0          0.0          0.0          1.0   \n\n      feature_109  feature_110  feature_111  feature_112  \n0             0.0          0.0          1.0          0.0  \n1             0.0          0.0          0.0          0.0  \n2             1.0          0.0          0.0          0.0  \n3             0.0          0.0          1.0          0.0  \n4             0.0          0.0          0.0          0.0  \n...           ...          ...          ...          ...  \n8119          0.0          0.0          0.0          0.0  \n8120          0.0          0.0          0.0          0.0  \n8121          0.0          0.0          0.0          0.0  \n8122          0.0          0.0          0.0          0.0  \n8123          0.0          0.0          0.0          0.0  \n\n[8124 rows x 103 columns]",
      "text/html": "<div>\n<style scoped>\n    .dataframe tbody tr th:only-of-type {\n        vertical-align: middle;\n    }\n\n    .dataframe tbody tr th {\n        vertical-align: top;\n    }\n\n    .dataframe thead th {\n        text-align: right;\n    }\n</style>\n<table border=\"1\" class=\"dataframe\">\n  <thead>\n    <tr style=\"text-align: right;\">\n      <th></th>\n      <th>feature_1</th>\n      <th>feature_3</th>\n      <th>feature_4</th>\n      <th>feature_5</th>\n      <th>feature_6</th>\n      <th>feature_7</th>\n      <th>feature_9</th>\n      <th>feature_10</th>\n      <th>feature_11</th>\n      <th>feature_12</th>\n      <th>...</th>\n      <th>feature_103</th>\n      <th>feature_104</th>\n      <th>feature_105</th>\n      <th>feature_106</th>\n      <th>feature_107</th>\n      <th>feature_108</th>\n      <th>feature_109</th>\n      <th>feature_110</th>\n      <th>feature_111</th>\n      <th>feature_112</th>\n    </tr>\n  </thead>\n  <tbody>\n    <tr>\n      <th>0</th>\n      <td>0.0</td>\n      <td>0.0</td>\n      <td>0.0</td>\n      <td>0.0</td>\n      <td>1.0</td>\n      <td>0.0</td>\n      <td>1.0</td>\n      <td>0.0</td>\n      <td>0.0</td>\n      <td>0.0</td>\n      <td>...</td>\n      <td>1.0</td>\n      <td>0.0</td>\n      <td>0.0</td>\n      <td>0.0</td>\n      <td>0.0</td>\n      <td>0.0</td>\n      <td>0.0</td>\n      <td>0.0</td>\n      <td>1.0</td>\n      <td>0.0</td>\n    </tr>\n    <tr>\n      <th>1</th>\n      <td>0.0</td>\n      <td>0.0</td>\n      <td>0.0</td>\n      <td>0.0</td>\n      <td>1.0</td>\n      <td>0.0</td>\n      <td>1.0</td>\n      <td>0.0</td>\n      <td>0.0</td>\n      <td>0.0</td>\n      <td>...</td>\n      <td>0.0</td>\n      <td>0.0</td>\n      <td>0.0</td>\n      <td>0.0</td>\n      <td>1.0</td>\n      <td>0.0</td>\n      <td>0.0</td>\n      <td>0.0</td>\n      <td>0.0</td>\n      <td>0.0</td>\n    </tr>\n    <tr>\n      <th>2</th>\n      <td>1.0</td>\n      <td>0.0</td>\n      <td>0.0</td>\n      <td>0.0</td>\n      <td>0.0</td>\n      <td>0.0</td>\n      <td>1.0</td>\n      <td>0.0</td>\n      <td>0.0</td>\n      <td>0.0</td>\n      <td>...</td>\n      <td>0.0</td>\n      <td>0.0</td>\n      <td>0.0</td>\n      <td>0.0</td>\n      <td>0.0</td>\n      <td>0.0</td>\n      <td>1.0</td>\n      <td>0.0</td>\n      <td>0.0</td>\n      <td>0.0</td>\n    </tr>\n    <tr>\n      <th>3</th>\n      <td>0.0</td>\n      <td>0.0</td>\n      <td>0.0</td>\n      <td>0.0</td>\n      <td>1.0</td>\n      <td>0.0</td>\n      <td>0.0</td>\n      <td>1.0</td>\n      <td>0.0</td>\n      <td>0.0</td>\n      <td>...</td>\n      <td>1.0</td>\n      <td>0.0</td>\n      <td>0.0</td>\n      <td>0.0</td>\n      <td>0.0</td>\n      <td>0.0</td>\n      <td>0.0</td>\n      <td>0.0</td>\n      <td>1.0</td>\n      <td>0.0</td>\n    </tr>\n    <tr>\n      <th>4</th>\n      <td>0.0</td>\n      <td>0.0</td>\n      <td>0.0</td>\n      <td>0.0</td>\n      <td>1.0</td>\n      <td>0.0</td>\n      <td>1.0</td>\n      <td>0.0</td>\n      <td>0.0</td>\n      <td>0.0</td>\n      <td>...</td>\n      <td>0.0</td>\n      <td>0.0</td>\n      <td>0.0</td>\n      <td>0.0</td>\n      <td>1.0</td>\n      <td>0.0</td>\n      <td>0.0</td>\n      <td>0.0</td>\n      <td>0.0</td>\n      <td>0.0</td>\n    </tr>\n    <tr>\n      <th>...</th>\n      <td>...</td>\n      <td>...</td>\n      <td>...</td>\n      <td>...</td>\n      <td>...</td>\n      <td>...</td>\n      <td>...</td>\n      <td>...</td>\n      <td>...</td>\n      <td>...</td>\n      <td>...</td>\n      <td>...</td>\n      <td>...</td>\n      <td>...</td>\n      <td>...</td>\n      <td>...</td>\n      <td>...</td>\n      <td>...</td>\n      <td>...</td>\n      <td>...</td>\n      <td>...</td>\n    </tr>\n    <tr>\n      <th>8119</th>\n      <td>0.0</td>\n      <td>0.0</td>\n      <td>1.0</td>\n      <td>0.0</td>\n      <td>0.0</td>\n      <td>0.0</td>\n      <td>1.0</td>\n      <td>0.0</td>\n      <td>0.0</td>\n      <td>0.0</td>\n      <td>...</td>\n      <td>0.0</td>\n      <td>0.0</td>\n      <td>0.0</td>\n      <td>0.0</td>\n      <td>0.0</td>\n      <td>1.0</td>\n      <td>0.0</td>\n      <td>0.0</td>\n      <td>0.0</td>\n      <td>0.0</td>\n    </tr>\n    <tr>\n      <th>8120</th>\n      <td>0.0</td>\n      <td>0.0</td>\n      <td>0.0</td>\n      <td>0.0</td>\n      <td>1.0</td>\n      <td>0.0</td>\n      <td>1.0</td>\n      <td>0.0</td>\n      <td>0.0</td>\n      <td>0.0</td>\n      <td>...</td>\n      <td>0.0</td>\n      <td>1.0</td>\n      <td>0.0</td>\n      <td>0.0</td>\n      <td>0.0</td>\n      <td>1.0</td>\n      <td>0.0</td>\n      <td>0.0</td>\n      <td>0.0</td>\n      <td>0.0</td>\n    </tr>\n    <tr>\n      <th>8121</th>\n      <td>0.0</td>\n      <td>1.0</td>\n      <td>0.0</td>\n      <td>0.0</td>\n      <td>0.0</td>\n      <td>0.0</td>\n      <td>1.0</td>\n      <td>0.0</td>\n      <td>0.0</td>\n      <td>0.0</td>\n      <td>...</td>\n      <td>0.0</td>\n      <td>0.0</td>\n      <td>0.0</td>\n      <td>0.0</td>\n      <td>0.0</td>\n      <td>1.0</td>\n      <td>0.0</td>\n      <td>0.0</td>\n      <td>0.0</td>\n      <td>0.0</td>\n    </tr>\n    <tr>\n      <th>8122</th>\n      <td>0.0</td>\n      <td>0.0</td>\n      <td>1.0</td>\n      <td>0.0</td>\n      <td>0.0</td>\n      <td>0.0</td>\n      <td>0.0</td>\n      <td>1.0</td>\n      <td>0.0</td>\n      <td>0.0</td>\n      <td>...</td>\n      <td>0.0</td>\n      <td>1.0</td>\n      <td>0.0</td>\n      <td>0.0</td>\n      <td>0.0</td>\n      <td>1.0</td>\n      <td>0.0</td>\n      <td>0.0</td>\n      <td>0.0</td>\n      <td>0.0</td>\n    </tr>\n    <tr>\n      <th>8123</th>\n      <td>0.0</td>\n      <td>0.0</td>\n      <td>0.0</td>\n      <td>0.0</td>\n      <td>1.0</td>\n      <td>0.0</td>\n      <td>1.0</td>\n      <td>0.0</td>\n      <td>0.0</td>\n      <td>0.0</td>\n      <td>...</td>\n      <td>0.0</td>\n      <td>0.0</td>\n      <td>0.0</td>\n      <td>0.0</td>\n      <td>0.0</td>\n      <td>1.0</td>\n      <td>0.0</td>\n      <td>0.0</td>\n      <td>0.0</td>\n      <td>0.0</td>\n    </tr>\n  </tbody>\n</table>\n<p>8124 rows × 103 columns</p>\n</div>"
     },
     "execution_count": 364,
     "metadata": {},
     "output_type": "execute_result"
    }
   ],
   "source": [
    "#class_weights = {-1: 1, 1: 5}  # Adjust the weights as needed\n",
    "extra_columns_in_test = [col for col in x_train.columns if col not in x_test.columns]\n",
    "\n",
    "# Drop these extra columns from the training dataset\n",
    "x_train.drop(extra_columns_in_test, axis=1, inplace=True)\n",
    "x_train"
   ],
   "metadata": {
    "collapsed": false,
    "ExecuteTime": {
     "end_time": "2023-10-28T21:10:54.210252Z",
     "start_time": "2023-10-28T21:10:54.143351Z"
    }
   }
  },
  {
   "cell_type": "code",
   "execution_count": 365,
   "outputs": [
    {
     "name": "stdout",
     "output_type": "stream",
     "text": [
      "Accuracy: 1.00\n"
     ]
    }
   ],
   "source": [
    "\n",
    "# Create an instance of the SVM classifier with class weights\n",
    "svm_classifier = SVC(kernel='linear', C=1)\n",
    "y_train=y_train.values.ravel()\n",
    "svm_classifier.fit(x_train, y_train)\n",
    "\n",
    "# Make predictions on the test data\n",
    "y_pred = svm_classifier.predict(x_test)\n",
    "\n",
    "# Calculate and print the accuracy of the model\n",
    "accuracy = accuracy_score(y_test, y_pred)\n",
    "print(f'Accuracy: {accuracy:.2f}')"
   ],
   "metadata": {
    "collapsed": false,
    "ExecuteTime": {
     "end_time": "2023-10-28T21:10:54.594552Z",
     "start_time": "2023-10-28T21:10:54.191694Z"
    }
   }
  },
  {
   "cell_type": "code",
   "execution_count": 366,
   "outputs": [
    {
     "ename": "AttributeError",
     "evalue": "'numpy.ndarray' object has no attribute 'values'",
     "output_type": "error",
     "traceback": [
      "\u001B[0;31m---------------------------------------------------------------------------\u001B[0m",
      "\u001B[0;31mAttributeError\u001B[0m                            Traceback (most recent call last)",
      "Cell \u001B[0;32mIn[366], line 16\u001B[0m\n\u001B[1;32m     13\u001B[0m accuracy_scores \u001B[38;5;241m=\u001B[39m []\n\u001B[1;32m     15\u001B[0m \u001B[38;5;66;03m# Flatten y_train outside the loop\u001B[39;00m\n\u001B[0;32m---> 16\u001B[0m y_train \u001B[38;5;241m=\u001B[39m \u001B[43my_train\u001B[49m\u001B[38;5;241;43m.\u001B[39;49m\u001B[43mvalues\u001B[49m\u001B[38;5;241m.\u001B[39mravel()\n\u001B[1;32m     18\u001B[0m \u001B[38;5;28;01mfor\u001B[39;00m train_index, test_index \u001B[38;5;129;01min\u001B[39;00m kf\u001B[38;5;241m.\u001B[39msplit(x_train):\n\u001B[1;32m     19\u001B[0m     X_train, X_test \u001B[38;5;241m=\u001B[39m x_train\u001B[38;5;241m.\u001B[39miloc[train_index], x_train\u001B[38;5;241m.\u001B[39miloc[test_index]\n",
      "\u001B[0;31mAttributeError\u001B[0m: 'numpy.ndarray' object has no attribute 'values'"
     ]
    }
   ],
   "source": [
    "\n",
    "\n",
    "# Define the class weights\n",
    "# You can set different weights for each class\n",
    "# For example, if you want to penalize false positives more, you can set a higher weight for class 1 (false positives) and a lower weight for class 0 (false negatives).\n",
    "class_weights = {-1: 1, 1: 5}  # Adjust the weights as needed\n",
    "\n",
    "# Create an instance of the SVM classifier with class weights\n",
    "svm_classifier = SVC(kernel='linear', C=1, class_weight=class_weights)\n",
    "k = 5  # You can choose the number of folds\n",
    "kf = KFold(n_splits=k)\n",
    "\n",
    "accuracy_scores = []\n",
    "y_train=y_train.values.ravel()\n",
    "for train_index, test_index in kf.split(x_train):\n",
    "    X_train, X_test = x_train[train_index], x_train[test_index]\n",
    "    y_train, y_test = y_train[train_index], y_train[test_index]\n",
    "\n",
    "    svm_classifier.fit(x_train, y_train)\n",
    "\n",
    "    y_pred = svm_classifier.predict(X_test)\n",
    "\n",
    "    accuracy = accuracy_score(y_test, y_pred)\n",
    "    accuracy_scores.append(accuracy)\n",
    "\n",
    "average_accuracy = np.mean(accuracy_scores)\n",
    "print(f'Average Accuracy: {average_accuracy:.2f}')\n"
   ],
   "metadata": {
    "collapsed": false,
    "ExecuteTime": {
     "end_time": "2023-10-28T21:10:54.633708Z",
     "start_time": "2023-10-28T21:10:54.626549Z"
    }
   }
  },
  {
   "cell_type": "code",
   "execution_count": null,
   "outputs": [],
   "source": [],
   "metadata": {
    "collapsed": false
   }
  }
 ],
 "metadata": {
  "kernelspec": {
   "display_name": "Python 3",
   "language": "python",
   "name": "python3"
  },
  "language_info": {
   "codemirror_mode": {
    "name": "ipython",
    "version": 2
   },
   "file_extension": ".py",
   "mimetype": "text/x-python",
   "name": "python",
   "nbconvert_exporter": "python",
   "pygments_lexer": "ipython2",
   "version": "2.7.6"
  }
 },
 "nbformat": 4,
 "nbformat_minor": 0
}
